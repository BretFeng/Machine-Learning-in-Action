{
 "cells": [
  {
   "cell_type": "code",
   "execution_count": 1,
   "metadata": {},
   "outputs": [
    {
     "name": "stdout",
     "output_type": "stream",
     "text": [
      "['my', 'stupid', 'garbage', 'I', 'to', 'dalmation', 'not', 'how', 'flea', 'cute', 'licks', 'stop', 'maybe', 'steak', 'is', 'help', 'ate', 'has', 'please', 'dog', 'problem', 'take', 'food', 'posting', 'worthless', 'buying', 'him', 'quit', 'love', 'so', 'park']\n",
      "[1, 0, 0, 0, 0, 0, 0, 0, 1, 0, 0, 0, 0, 0, 0, 1, 0, 1, 1, 1, 1, 0, 0, 0, 0, 0, 0, 0, 0, 0, 0]\n"
     ]
    }
   ],
   "source": [
    "import bayes\n",
    "import numpy as np\n",
    "\n",
    "postingList, classVector = bayes.loadDataSet()\n",
    "vocabList = bayes.createVocabList(postingList)\n",
    "sentenceVector = bayes.setOfWords2Vec(vocabList, postingList[0])\n",
    "\n",
    "print(vocabList)\n",
    "print(sentenceVector)"
   ]
  },
  {
   "cell_type": "code",
   "execution_count": 2,
   "metadata": {},
   "outputs": [
    {
     "name": "stdout",
     "output_type": "stream",
     "text": [
      "[0.04761905 0.19047619 0.0952381  0.04761905 0.0952381  0.04761905\n",
      " 0.0952381  0.04761905 0.04761905 0.04761905 0.04761905 0.0952381\n",
      " 0.0952381  0.04761905 0.04761905 0.04761905 0.04761905 0.04761905\n",
      " 0.04761905 0.14285714 0.04761905 0.0952381  0.0952381  0.0952381\n",
      " 0.14285714 0.0952381  0.0952381  0.0952381  0.04761905 0.04761905\n",
      " 0.0952381 ]\n",
      "[0.16 0.04 0.04 0.08 0.08 0.08 0.04 0.08 0.08 0.08 0.08 0.08 0.04 0.08\n",
      " 0.08 0.08 0.08 0.08 0.08 0.08 0.08 0.04 0.04 0.04 0.04 0.04 0.12 0.04\n",
      " 0.08 0.08 0.04]\n",
      "0.5\n"
     ]
    }
   ],
   "source": [
    "postingListMatrix = []\n",
    "for i in range(len(postingList)):\n",
    "    sentenceVector = bayes.setOfWords2Vec(vocabList, postingList[i])\n",
    "    postingListMatrix.append(sentenceVector)\n",
    "\n",
    "probabilityAbusiveVector, probabilityNonAbusiveVector, probabilityAbusiveSamples = bayes.trainNaiveBayes(postingListMatrix, classVector)\n",
    "print(probabilityAbusiveVector)\n",
    "print(probabilityNonAbusiveVector)\n",
    "print(probabilityAbusiveSamples)\n"
   ]
  },
  {
   "cell_type": "code",
   "execution_count": 3,
   "metadata": {},
   "outputs": [
    {
     "name": "stdout",
     "output_type": "stream",
     "text": [
      "stupid\n"
     ]
    }
   ],
   "source": [
    "indexProbabilityMax = np.argmax(probabilityAbusiveVector)\n",
    "maxAbusiveWord = vocabList[indexProbabilityMax]\n",
    "print(maxAbusiveWord)"
   ]
  },
  {
   "cell_type": "code",
   "execution_count": 4,
   "metadata": {},
   "outputs": [
    {
     "name": "stdout",
     "output_type": "stream",
     "text": [
      "testSentence 'love my dalmation' is classified as 0\n",
      "testSentence 'stupid garbage' is classified as 1\n"
     ]
    }
   ],
   "source": [
    "testSentence1 = ['love', 'my', 'dalmation']\n",
    "testSentenceVector1 = bayes.setOfWords2Vec(vocabList, testSentence1)\n",
    "testSentence2 = ['stupid', 'garbage']\n",
    "testSentenceVector2 = bayes.setOfWords2Vec(vocabList, testSentence2)\n",
    "\n",
    "testResult1 = bayes.naiveBayesClassify(testSentenceVector1, probabilityAbusiveVector, probabilityNonAbusiveVector, probabilityAbusiveSamples)\n",
    "testResult2 = bayes.naiveBayesClassify(testSentenceVector2, probabilityAbusiveVector, probabilityNonAbusiveVector, probabilityAbusiveSamples)\n",
    "print(\"testSentence 'love my dalmation' is classified as %d\" %testResult1)\n",
    "print(\"testSentence 'stupid garbage' is classified as %d\" %testResult2)"
   ]
  },
  {
   "cell_type": "code",
   "execution_count": 5,
   "metadata": {},
   "outputs": [
    {
     "name": "stdout",
     "output_type": "stream",
     "text": [
      "['This', 'book', 'is', 'the', 'best', 'book', 'on', 'Python', 'or', 'M.L.', 'I', 'have', 'ever', 'seen.']\n"
     ]
    }
   ],
   "source": [
    "Sentence = 'This book is the best book on Python or M.L. I have ever seen.'\n",
    "sentence2Words = Sentence.split()\n",
    "print(sentence2Words)"
   ]
  },
  {
   "cell_type": "code",
   "execution_count": 6,
   "metadata": {},
   "outputs": [
    {
     "name": "stdout",
     "output_type": "stream",
     "text": [
      "['This', '', 'book', '', 'is', '', 'the', '', 'best', '', 'book', '', 'on', '', 'Python', '', 'or', '', 'M', '', 'L', '', '', 'I', '', 'have', '', 'ever', '', 'seen', '', '']\n",
      "['this', 'book', 'is', 'the', 'best', 'book', 'on', 'python', 'or', 'm', 'l', 'i', 'have', 'ever', 'seen']\n"
     ]
    }
   ],
   "source": [
    "import re\n",
    "sentence2Words_2 = re.findall(r'\\w*', Sentence) # sentence will be divided into letters instead of words if there is no *\n",
    "print(sentence2Words_2)\n",
    "\n",
    "wordList = []\n",
    "for word in sentence2Words_2:\n",
    "    if len(word) > 0:\n",
    "        wordList.append(word.lower())\n",
    "print(wordList)"
   ]
  },
  {
   "cell_type": "code",
   "execution_count": 7,
   "metadata": {},
   "outputs": [
    {
     "name": "stdout",
     "output_type": "stream",
     "text": [
      "[0, 0, 0, 1, 0, 1, 1, 0, 1, 0]\n",
      "[0, 0, 0, 1, 1, 1, 1, 0, 1, 0]\n",
      "0.1\n"
     ]
    }
   ],
   "source": [
    "classifyResults, testSampleResults = bayes.spamTest()\n",
    "print(classifyResults)\n",
    "print(testSampleResults)\n",
    "\n",
    "error = 0\n",
    "for i in range(len(classifyResults)):\n",
    "    if classifyResults[i] != testSampleResults[i]:\n",
    "        error += 1\n",
    "classifyErrorRate = error / len(classifyResults)\n",
    "print(classifyErrorRate)"
   ]
  },
  {
   "cell_type": "code",
   "execution_count": 9,
   "metadata": {},
   "outputs": [
    {
     "name": "stdout",
     "output_type": "stream",
     "text": [
      "The word: these is not vocabulary list\n",
      "The word: from is not vocabulary list\n",
      "The word: space is not vocabulary list\n",
      "The word: and is not vocabulary list\n",
      "The word: galaxy is not vocabulary list\n",
      "The word: about is not vocabulary list\n",
      "The word: million is not vocabulary list\n",
      "The word: light is not vocabulary list\n",
      "The word: years is not vocabulary list\n",
      "The word: away is not vocabulary list\n",
      "The word: the is not vocabulary list\n",
      "The word: the is not vocabulary list\n",
      "The word: and is not vocabulary list\n",
      "The word: with is not vocabulary list\n",
      "The word: well is not vocabulary list\n",
      "The word: the is not vocabulary list\n",
      "The word: nasa is not vocabulary list\n",
      "The word: from is not vocabulary list\n",
      "The word: the is not vocabulary list\n",
      "The word: international is not vocabulary list\n",
      "The word: space is not vocabulary list\n",
      "The word: station is not vocabulary list\n",
      "The word: the is not vocabulary list\n",
      "The word: their is not vocabulary list\n",
      "The word: the is not vocabulary list\n",
      "The word: the is not vocabulary list\n",
      "The word: the is not vocabulary list\n",
      "The word: and is not vocabulary list\n",
      "The word: about is not vocabulary list\n",
      "The word: million is not vocabulary list\n",
      "The word: years is not vocabulary list\n",
      "The word: like is not vocabulary list\n",
      "The word: when is not vocabulary list\n",
      "The word: this is not vocabulary list\n",
      "The word: image is not vocabulary list\n",
      "The word: from is not vocabulary list\n",
      "The word: the is not vocabulary list\n",
      "The word: nasa is not vocabulary list\n",
      "The word: hubble is not vocabulary list\n",
      "The word: space is not vocabulary list\n",
      "The word: galaxy is not vocabulary list\n",
      "The word: the is not vocabulary list\n",
      "The word: the is not vocabulary list\n",
      "The word: about is not vocabulary list\n",
      "The word: million is not vocabulary list\n",
      "The word: light is not vocabulary list\n",
      "The word: years is not vocabulary list\n",
      "The word: away is not vocabulary list\n",
      "The word: galaxy is not vocabulary list\n",
      "The word: its is not vocabulary list\n",
      "The word: and is not vocabulary list\n",
      "The word: stars is not vocabulary list\n",
      "The word: its is not vocabulary list\n",
      "The word: this is not vocabulary list\n",
      "The word: space is not vocabulary list\n",
      "The word: from is not vocabulary list\n",
      "The word: nasa is not vocabulary list\n",
      "The word: space is not vocabulary list\n",
      "The word: the is not vocabulary list\n",
      "The word: hubble is not vocabulary list\n",
      "The word: space is not vocabulary list\n",
      "The word: the is not vocabulary list\n",
      "The word: the is not vocabulary list\n",
      "The word: was is not vocabulary list\n",
      "The word: than is not vocabulary list\n",
      "The word: was is not vocabulary list\n",
      "The word: that is not vocabulary list\n",
      "The word: the is not vocabulary list\n",
      "The word: the is not vocabulary list\n",
      "The word: will is not vocabulary list\n",
      "The word: with is not vocabulary list\n",
      "The word: the is not vocabulary list\n",
      "The word: two is not vocabulary list\n",
      "The word: that is not vocabulary list\n",
      "The word: are is not vocabulary list\n",
      "The word: and is not vocabulary list\n",
      "The word: their is not vocabulary list\n",
      "The word: the is not vocabulary list\n",
      "The word: that is not vocabulary list\n",
      "The word: like is not vocabulary list\n",
      "The word: are is not vocabulary list\n",
      "The word: these is not vocabulary list\n",
      "The word: from is not vocabulary list\n",
      "The word: the is not vocabulary list\n",
      "The word: like is not vocabulary list\n",
      "The word: the is not vocabulary list\n",
      "The word: with is not vocabulary list\n",
      "The word: the is not vocabulary list\n",
      "The word: from is not vocabulary list\n",
      "The word: the is not vocabulary list\n",
      "The word: the is not vocabulary list\n",
      "The word: international is not vocabulary list\n",
      "The word: space is not vocabulary list\n",
      "The word: station is not vocabulary list\n",
      "The word: the is not vocabulary list\n",
      "The word: and is not vocabulary list\n",
      "The word: this is not vocabulary list\n",
      "The word: image is not vocabulary list\n",
      "The word: from is not vocabulary list\n",
      "The word: the is not vocabulary list\n",
      "The word: the is not vocabulary list\n",
      "The word: the is not vocabulary list\n",
      "The word: international is not vocabulary list\n",
      "The word: space is not vocabulary list\n",
      "The word: station is not vocabulary list\n",
      "The word: are is not vocabulary list\n",
      "The word: about is not vocabulary list\n",
      "The word: from is not vocabulary list\n",
      "The word: and is not vocabulary list\n",
      "The word: and is not vocabulary list\n",
      "The word: the is not vocabulary list\n",
      "The word: this is not vocabulary list\n",
      "The word: image is not vocabulary list\n",
      "The word: and is not vocabulary list\n",
      "The word: from is not vocabulary list\n",
      "The word: the is not vocabulary list\n",
      "The word: and is not vocabulary list\n",
      "The word: the is not vocabulary list\n",
      "The word: will is not vocabulary list\n",
      "The word: than is not vocabulary list\n",
      "The word: the is not vocabulary list\n",
      "The word: that is not vocabulary list\n",
      "The word: from is not vocabulary list\n",
      "The word: the is not vocabulary list\n",
      "The word: international is not vocabulary list\n",
      "The word: space is not vocabulary list\n",
      "The word: station is not vocabulary list\n",
      "The word: years is not vocabulary list\n",
      "The word: the is not vocabulary list\n",
      "The word: like is not vocabulary list\n",
      "The word: their is not vocabulary list\n",
      "The word: two is not vocabulary list\n",
      "The word: the is not vocabulary list\n",
      "The word: years is not vocabulary list\n",
      "The word: and is not vocabulary list\n",
      "The word: the is not vocabulary list\n",
      "The word: the is not vocabulary list\n",
      "The word: the is not vocabulary list\n",
      "The word: the is not vocabulary list\n",
      "The word: the is not vocabulary list\n",
      "The word: when is not vocabulary list\n",
      "The word: stars is not vocabulary list\n",
      "The word: and is not vocabulary list\n",
      "The word: the is not vocabulary list\n",
      "The word: when is not vocabulary list\n",
      "The word: these is not vocabulary list\n",
      "The word: their is not vocabulary list\n",
      "The word: the is not vocabulary list\n",
      "The word: light is not vocabulary list\n",
      "The word: galaxy is not vocabulary list\n",
      "The word: the is not vocabulary list\n",
      "The word: galaxy is not vocabulary list\n",
      "The word: this is not vocabulary list\n",
      "The word: hubble is not vocabulary list\n",
      "The word: image is not vocabulary list\n",
      "The word: these is not vocabulary list\n",
      "The word: the is not vocabulary list\n",
      "The word: years is not vocabulary list\n",
      "The word: space is not vocabulary list\n",
      "The word: that is not vocabulary list\n",
      "The word: space is not vocabulary list\n",
      "The word: and is not vocabulary list\n",
      "The word: international is not vocabulary list\n",
      "The word: space is not vocabulary list\n",
      "The word: station is not vocabulary list\n",
      "The word: and is not vocabulary list\n",
      "The word: the is not vocabulary list\n",
      "The word: the is not vocabulary list\n",
      "The word: are is not vocabulary list\n",
      "The word: than is not vocabulary list\n",
      "The word: are is not vocabulary list\n",
      "The word: the is not vocabulary list\n",
      "The word: two is not vocabulary list\n",
      "The word: the is not vocabulary list\n",
      "The word: this is not vocabulary list\n",
      "The word: the is not vocabulary list\n",
      "The word: well is not vocabulary list\n",
      "The word: space is not vocabulary list\n",
      "The word: nasa is not vocabulary list\n",
      "The word: the is not vocabulary list\n",
      "The word: the is not vocabulary list\n",
      "The word: international is not vocabulary list\n",
      "The word: space is not vocabulary list\n",
      "The word: station is not vocabulary list\n",
      "The word: with is not vocabulary list\n",
      "The word: the is not vocabulary list\n",
      "The word: the is not vocabulary list\n",
      "The word: was is not vocabulary list\n",
      "The word: the is not vocabulary list\n",
      "The word: its is not vocabulary list\n",
      "The word: nasa is not vocabulary list\n",
      "The word: this is not vocabulary list\n",
      "The word: the is not vocabulary list\n",
      "The word: away is not vocabulary list\n",
      "The word: from is not vocabulary list\n",
      "The word: the is not vocabulary list\n",
      "The word: this is not vocabulary list\n",
      "The word: image is not vocabulary list\n",
      "The word: well is not vocabulary list\n",
      "The word: the is not vocabulary list\n",
      "The word: the is not vocabulary list\n",
      "The word: the is not vocabulary list\n",
      "The word: stars is not vocabulary list\n",
      "The word: and is not vocabulary list\n",
      "The word: the is not vocabulary list\n",
      "The word: and is not vocabulary list\n",
      "The word: this is not vocabulary list\n",
      "The word: stars is not vocabulary list\n",
      "The word: image is not vocabulary list\n",
      "The word: the is not vocabulary list\n",
      "The word: the is not vocabulary list\n",
      "The word: the is not vocabulary list\n",
      "The word: station is not vocabulary list\n",
      "The word: from is not vocabulary list\n",
      "The word: the is not vocabulary list\n",
      "The word: the is not vocabulary list\n",
      "The word: the is not vocabulary list\n",
      "The word: the is not vocabulary list\n",
      "The word: the is not vocabulary list\n",
      "The word: about is not vocabulary list\n",
      "The word: and is not vocabulary list\n",
      "The word: the is not vocabulary list\n",
      "The word: that is not vocabulary list\n",
      "The word: the is not vocabulary list\n",
      "The word: will is not vocabulary list\n",
      "The word: will is not vocabulary list\n",
      "The word: million is not vocabulary list\n",
      "The word: light is not vocabulary list\n",
      "The word: years is not vocabulary list\n",
      "The word: away is not vocabulary list\n",
      "The word: the is not vocabulary list\n",
      "The word: the is not vocabulary list\n",
      "The word: the is not vocabulary list\n",
      "The word: galaxy is not vocabulary list\n",
      "The word: the is not vocabulary list\n",
      "The word: this is not vocabulary list\n",
      "The word: hubble is not vocabulary list\n",
      "The word: image is not vocabulary list\n",
      "The word: with is not vocabulary list\n",
      "The word: its is not vocabulary list\n",
      "The word: and is not vocabulary list\n",
      "[1, 1, 0, 0, 0, 0, 1]\n",
      "[1, 1, 1, 1, 0, 0, 1]\n",
      "0.2857142857142857\n"
     ]
    }
   ],
   "source": [
    "import feedparser\n",
    "feed1 = feedparser.parse('http://www.nasa.gov/rss/dyn/image_of_the_day.rss')\n",
    "feed0 = feedparser.parse('https://www.wired.com/feed')\n",
    "\n",
    "classifyResults, testSampleResults = bayes.feedClassifyTest(feed1, feed0)\n",
    "print(classifyResults)\n",
    "print(testSampleResults)\n",
    "\n",
    "error = 0\n",
    "for i in range(len(classifyResults)):\n",
    "    if classifyResults[i] != testSampleResults[i]:\n",
    "        error += 1\n",
    "classifyErrorRate = error / len(classifyResults)\n",
    "print(classifyErrorRate)"
   ]
  },
  {
   "cell_type": "code",
   "execution_count": 10,
   "metadata": {},
   "outputs": [
    {
     "name": "stdout",
     "output_type": "stream",
     "text": [
      "['was', 'than', 'new', 'how', 'get', 'from', 'deal', 'big', 'are']\n",
      "['this', 'station', 'international', 'astronaut', 'galaxy', 'image', 'center', 'years', 'stars', 'with', 'its', 'for', 'first', 'launch', 'have', 'mission', 'light', 'koch', 'hubble', 'christina', '2019', 'was', 'that', 'telescope', 'spacecraft', 'ngc', 'million', 'kennedy', 'away', 'american', 'about', 'works', 'star', 'spacewalk', 'seen', 'robotic', 'nov', 'native', 'morgan', 'jupiter', 'his', 'dust', 'constellation', 'bright', 'astronomers', 'are', 'andrew', 'agency', 'after', 'while', 'when', 'view', 'together', 'these', 'system', 'spectrometer', 'satellite', 'rocket', 'repair', 'region', 'planet', 'pictured', 'over', 'out', 'onboard', 'northrop', 'new', 'near', 'monday', 'magnetic', 'launched', 'john', 'her', 'hemisphere', 'has', 'grumman', 'galaxies', 'flight', 'facility', 'esa', 'during', 'core', 'complex', 'artemis', 'arms', 'alpha', 'across', 'aboard']\n"
     ]
    }
   ],
   "source": [
    "import feedparser\n",
    "feed1 = feedparser.parse('http://www.nasa.gov/rss/dyn/image_of_the_day.rss')\n",
    "feed0 = feedparser.parse('https://www.wired.com/feed')\n",
    "\n",
    "topWords0, topWords1 = bayes.getTopWords(feed1, feed0, 5, 3)\n",
    "print(topWords0)\n",
    "print(topWords1)"
   ]
  }
 ],
 "metadata": {
  "kernelspec": {
   "display_name": "Python 3",
   "language": "python",
   "name": "python3"
  },
  "language_info": {
   "codemirror_mode": {
    "name": "ipython",
    "version": 3
   },
   "file_extension": ".py",
   "mimetype": "text/x-python",
   "name": "python",
   "nbconvert_exporter": "python",
   "pygments_lexer": "ipython3",
   "version": "3.7.4"
  }
 },
 "nbformat": 4,
 "nbformat_minor": 2
}
