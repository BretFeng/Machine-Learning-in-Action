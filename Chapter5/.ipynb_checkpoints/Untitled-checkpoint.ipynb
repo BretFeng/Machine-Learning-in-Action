{
 "cells": [
  {
   "cell_type": "code",
   "execution_count": 7,
   "metadata": {},
   "outputs": [
    {
     "name": "stdout",
     "output_type": "stream",
     "text": [
      "[[49.44406948]\n",
      " [39.0376462 ]]\n"
     ]
    }
   ],
   "source": [
    "import logisticRegression\n",
    "parameterMatrix, category = logisticRegression.loadDataSet()\n",
    "weights = logisticRegression.gradientDescent(parameterMatrix, category, 0.5, 400)\n",
    "print(weights)"
   ]
  }
 ],
 "metadata": {
  "kernelspec": {
   "display_name": "Python 3",
   "language": "python",
   "name": "python3"
  },
  "language_info": {
   "codemirror_mode": {
    "name": "ipython",
    "version": 3
   },
   "file_extension": ".py",
   "mimetype": "text/x-python",
   "name": "python",
   "nbconvert_exporter": "python",
   "pygments_lexer": "ipython3",
   "version": "3.7.4"
  }
 },
 "nbformat": 4,
 "nbformat_minor": 2
}
